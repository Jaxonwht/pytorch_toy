{
 "cells": [
  {
   "cell_type": "code",
   "execution_count": 2,
   "metadata": {},
   "outputs": [
    {
     "name": "stdout",
     "output_type": "stream",
     "text": [
      "Epoch 0, Batch 0, Loss 0.6960817575454712\n",
      "Traceback (most recent call last):\n",
      "  File \"political_classifier.py\", line 79, in <module>\n",
      "    pack = nn.utils.rnn.pack_sequence(input).to(my_device)\n",
      "  File \"/opt/conda/lib/python3.7/site-packages/torch/nn/utils/rnn.py\", line 277, in pack_sequence\n",
      "    return pack_padded_sequence(pad_sequence(sequences), [v.size(0) for v in sequences])\n",
      "  File \"/opt/conda/lib/python3.7/site-packages/torch/nn/utils/rnn.py\", line 148, in pack_padded_sequence\n",
      "    return PackedSequence(torch._C._VariableFunctions._pack_padded_sequence(input, lengths, batch_first))\n",
      "RuntimeError: CUDA out of memory. Tried to allocate 352.75 MiB (GPU 0; 7.93 GiB total capacity; 2.11 GiB already allocated; 33.56 MiB free; 348.13 MiB cached)\n"
     ]
    },
    {
     "ename": "",
     "evalue": "1",
     "output_type": "error",
     "traceback": []
    }
   ],
   "source": [
    "python political_classifier.py"
   ]
  }
 ],
 "metadata": {
  "kernelspec": {
   "display_name": "Bash",
   "language": "bash",
   "name": "bash"
  },
  "language_info": {
   "codemirror_mode": "shell",
   "file_extension": ".sh",
   "mimetype": "text/x-sh",
   "name": "bash"
  }
 },
 "nbformat": 4,
 "nbformat_minor": 2
}
