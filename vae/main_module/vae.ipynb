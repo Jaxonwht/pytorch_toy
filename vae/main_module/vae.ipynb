{
 "cells": [
  {
   "cell_type": "code",
   "execution_count": null,
   "metadata": {},
   "outputs": [
    {
     "name": "stdout",
     "output_type": "stream",
     "text": [
      "Epoch 0, Batch 0, KL Loss 0.0, Reconstruction Loss 183.19003295898438, Total Loss 183.19003295898438\n",
      "Epoch 0, Batch 10, KL Loss 0.0, Reconstruction Loss 142.3971710205078, Total Loss 142.3971710205078\n",
      "Epoch 0, Batch 20, KL Loss 0.0, Reconstruction Loss 124.51030731201172, Total Loss 124.51030731201172\n",
      "Epoch 0, Batch 30, KL Loss 0.0, Reconstruction Loss 99.62916564941406, Total Loss 99.62916564941406\n"
     ]
    }
   ],
   "source": [
    "python variational_autoencoder.py"
   ]
  }
 ],
 "metadata": {
  "kernelspec": {
   "display_name": "Bash",
   "language": "bash",
   "name": "bash"
  },
  "language_info": {
   "codemirror_mode": "shell",
   "file_extension": ".sh",
   "mimetype": "text/x-sh",
   "name": "bash"
  }
 },
 "nbformat": 4,
 "nbformat_minor": 2
}
